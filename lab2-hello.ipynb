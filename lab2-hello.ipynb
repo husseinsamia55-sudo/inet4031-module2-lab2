{
 "cells": [
  {
   "cell_type": "code",
   "execution_count": 1,
   "id": "4ac45f0a-86a9-4c6f-b899-3b8cdaa48d57",
   "metadata": {},
   "outputs": [
    {
     "name": "stdout",
     "output_type": "stream",
     "text": [
      "Hello INET 4031 from JupyterLab!\n"
     ]
    }
   ],
   "source": [
    "print(\"Hello INET 4031 from JupyterLab!\")"
   ]
  },
  {
   "cell_type": "code",
   "execution_count": null,
   "id": "f1d555e9-1d2e-4ddd-ab10-979956605b20",
   "metadata": {},
   "outputs": [],
   "source": []
  }
 ],
 "metadata": {
  "kernelspec": {
   "display_name": "Python 3 (ipykernel)",
   "language": "python",
   "name": "python3"
  },
  "language_info": {
   "codemirror_mode": {
    "name": "ipython",
    "version": 3
   },
   "file_extension": ".py",
   "mimetype": "text/x-python",
   "name": "python",
   "nbconvert_exporter": "python",
   "pygments_lexer": "ipython3",
   "version": "3.9.6"
  }
 },
 "nbformat": 4,
 "nbformat_minor": 5
}
